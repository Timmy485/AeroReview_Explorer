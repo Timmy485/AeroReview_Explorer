{
 "cells": [
  {
   "cell_type": "code",
   "execution_count": 2,
   "metadata": {},
   "outputs": [],
   "source": [
    "import pprint\n",
    "import google.generativeai as palm\n",
    "import pandas as pd\n",
    "import matplotlib.pyplot as plt"
   ]
  },
  {
   "cell_type": "code",
   "execution_count": 176,
   "metadata": {},
   "outputs": [
    {
     "data": {
      "text/plain": [
       "<module 'config' from 'c:\\\\Users\\\\TurnerZ\\\\Documents\\\\GitHub\\\\AeroReview_Explorer\\\\notebooks\\\\../app\\\\config.py'>"
      ]
     },
     "execution_count": 176,
     "metadata": {},
     "output_type": "execute_result"
    }
   ],
   "source": [
    "import sys\n",
    "sys.path.append('../app')  \n",
    "import config\n",
    "import importlib\n",
    "importlib.reload(config)"
   ]
  },
  {
   "cell_type": "code",
   "execution_count": 177,
   "metadata": {},
   "outputs": [],
   "source": [
    "palm.configure(api_key=config.api_key)"
   ]
  },
  {
   "cell_type": "code",
   "execution_count": 142,
   "metadata": {},
   "outputs": [
    {
     "name": "stdout",
     "output_type": "stream",
     "text": [
      "models/text-bison-001\n"
     ]
    }
   ],
   "source": [
    "# find available models\n",
    "models = [m for m in palm.list_models() if 'generateText' in m.supported_generation_methods]\n",
    "model = models[0].name\n",
    "print(model)"
   ]
  },
  {
   "cell_type": "code",
   "execution_count": 103,
   "metadata": {},
   "outputs": [],
   "source": [
    "all_reviews = pd.read_csv(\"../data/clean_all_reviews.csv\")\n",
    "verified_reviews = pd.read_csv(\"../data/clean_verified_reviews.csv\")"
   ]
  },
  {
   "cell_type": "code",
   "execution_count": 133,
   "metadata": {},
   "outputs": [
    {
     "data": {
      "text/plain": [
       "797"
      ]
     },
     "execution_count": 133,
     "metadata": {},
     "output_type": "execute_result"
    }
   ],
   "source": [
    "len(verified_reviews)"
   ]
  },
  {
   "cell_type": "code",
   "execution_count": 179,
   "metadata": {},
   "outputs": [
    {
     "data": {
      "text/plain": [
       "50"
      ]
     },
     "execution_count": 179,
     "metadata": {},
     "output_type": "execute_result"
    }
   ],
   "source": [
    "reviews = list(verified_reviews['reviews'])\n",
    "# reviews = reviews[100:300]\n",
    "# reviews = reviews[300:400]\n",
    "# reviews = reviews[400:500]\n",
    "# reviews = reviews[500:600]\n",
    "# reviews = reviews[600:700]\n",
    "# reviews = reviews[700:]\n",
    "reviews = reviews[:50]\n",
    "len(reviews)"
   ]
  },
  {
   "cell_type": "code",
   "execution_count": 180,
   "metadata": {},
   "outputs": [],
   "source": [
    "# Initialize batch size\n",
    "batch_size = 1  # You can adjust the batch size as needed\n",
    "sentiments = []\n",
    "\n",
    "# Iterate through the reviews in batches\n",
    "for i in range(0, len(reviews), batch_size):\n",
    "    # Create a batch of reviews\n",
    "    batch_reviews = reviews[i:i + batch_size]\n",
    "\n",
    "    # Initialize the prompt with the expert's introduction\n",
    "    prompt = \"You are an expert at sentiment analysis.\\n\\n\"\n",
    "\n",
    "    # Iterate through each review in the batch and add it to the prompt\n",
    "    for idx, review in enumerate(batch_reviews):\n",
    "        prompt += f\"Review {i + idx + 1}:\\n{review}\\n\\n\"\n",
    "\n",
    "    # Add instructions to return Positive, Negative, or Neutral for each review\n",
    "    prompt += \"Return the sentiment (Positive, Negative, or Neutral) for each review:\\n\"\n",
    "\n",
    "    response  = palm.generate_text(\n",
    "    model=model,\n",
    "    prompt=prompt,\n",
    "    temperature=0,\n",
    ")\n",
    "\n",
    "    # Extract the sentiment analysis results from the API response\n",
    "    sentiments.append(response.result) \n"
   ]
  },
  {
   "cell_type": "code",
   "execution_count": 181,
   "metadata": {},
   "outputs": [
    {
     "data": {
      "text/plain": [
       "Counter({'Negative': 42, 'Positive': 7, None: 1})"
      ]
     },
     "execution_count": 181,
     "metadata": {},
     "output_type": "execute_result"
    }
   ],
   "source": [
    "from collections import Counter\n",
    "counts = Counter(sentiments)\n",
    "counts"
   ]
  },
  {
   "cell_type": "code",
   "execution_count": 182,
   "metadata": {},
   "outputs": [
    {
     "data": {
      "text/html": [
       "<div>\n",
       "<style scoped>\n",
       "    .dataframe tbody tr th:only-of-type {\n",
       "        vertical-align: middle;\n",
       "    }\n",
       "\n",
       "    .dataframe tbody tr th {\n",
       "        vertical-align: top;\n",
       "    }\n",
       "\n",
       "    .dataframe thead th {\n",
       "        text-align: right;\n",
       "    }\n",
       "</style>\n",
       "<table border=\"1\" class=\"dataframe\">\n",
       "  <thead>\n",
       "    <tr style=\"text-align: right;\">\n",
       "      <th></th>\n",
       "      <th>reviews</th>\n",
       "      <th>sentiments</th>\n",
       "    </tr>\n",
       "  </thead>\n",
       "  <tbody>\n",
       "    <tr>\n",
       "      <th>0</th>\n",
       "      <td>this is to express our displeasure and concern...</td>\n",
       "      <td>Negative</td>\n",
       "    </tr>\n",
       "    <tr>\n",
       "      <th>1</th>\n",
       "      <td>i flew london to malaga on 27 august in club e...</td>\n",
       "      <td>Negative</td>\n",
       "    </tr>\n",
       "    <tr>\n",
       "      <th>2</th>\n",
       "      <td>i arrived at the airport about 2.5 hours befor...</td>\n",
       "      <td>Negative</td>\n",
       "    </tr>\n",
       "    <tr>\n",
       "      <th>3</th>\n",
       "      <td>filthy plane, cabin staff ok, appalling custom...</td>\n",
       "      <td>Negative</td>\n",
       "    </tr>\n",
       "    <tr>\n",
       "      <th>4</th>\n",
       "      <td>chaos at terminal 5 with ba cancellations and ...</td>\n",
       "      <td>Negative</td>\n",
       "    </tr>\n",
       "  </tbody>\n",
       "</table>\n",
       "</div>"
      ],
      "text/plain": [
       "                                             reviews sentiments\n",
       "0  this is to express our displeasure and concern...   Negative\n",
       "1  i flew london to malaga on 27 august in club e...   Negative\n",
       "2  i arrived at the airport about 2.5 hours befor...   Negative\n",
       "3  filthy plane, cabin staff ok, appalling custom...   Negative\n",
       "4  chaos at terminal 5 with ba cancellations and ...   Negative"
      ]
     },
     "execution_count": 182,
     "metadata": {},
     "output_type": "execute_result"
    }
   ],
   "source": [
    "review_sentiment = list(zip(reviews, sentiments))\n",
    "review_sentiment_df = pd.DataFrame(review_sentiment, columns=['reviews', 'sentiments'])\n",
    "review_sentiment_df.head()"
   ]
  },
  {
   "cell_type": "code",
   "execution_count": 183,
   "metadata": {},
   "outputs": [],
   "source": [
    "review_sentiment_df.to_csv('../data/review_sentiment_df.csv', mode='a', header=False, index=False)"
   ]
  },
  {
   "cell_type": "code",
   "execution_count": 4,
   "metadata": {},
   "outputs": [],
   "source": [
    "def plot_polarity(df, text):\n",
    "    # Count the occurrences of each sentiment\n",
    "    sentiment_counts = df.value_counts()\n",
    "    print(sentiment_counts)\n",
    "    fig, ax = plt.subplots()\n",
    "    ax.pie(sentiment_counts.values, labels=sentiment_counts.index, autopct='%1.1f%%')\n",
    "    ax.set_title(f'Sentiment Distribution for {text}')\n",
    "    plt.show()"
   ]
  },
  {
   "cell_type": "code",
   "execution_count": 3,
   "metadata": {},
   "outputs": [
    {
     "data": {
      "text/plain": [
       "747"
      ]
     },
     "execution_count": 3,
     "metadata": {},
     "output_type": "execute_result"
    }
   ],
   "source": [
    "df = pd.read_csv('../data/review_sentiment_df.csv')\n",
    "len(df)"
   ]
  },
  {
   "cell_type": "code",
   "execution_count": 5,
   "metadata": {},
   "outputs": [
    {
     "name": "stdout",
     "output_type": "stream",
     "text": [
      "sentiments\n",
      "Negative    475\n",
      "Positive    217\n",
      "Neutral       1\n",
      "Name: count, dtype: int64\n"
     ]
    },
    {
     "data": {
      "image/png": "[encoded data removed]",
      "text/plain": [
       "<Figure size 640x480 with 1 Axes>"
      ]
     },
     "metadata": {},
     "output_type": "display_data"
    }
   ],
   "source": [
    "plot_polarity(df['sentiments'], 'Verified Reviews')"
   ]
  },
  {
   "cell_type": "code",
   "execution_count": null,
   "metadata": {},
   "outputs": [],
   "source": []
  }
 ],
 "metadata": {
  "kernelspec": {
   "display_name": "aeroreview",
   "language": "python",
   "name": "python3"
  },
  "language_info": {
   "codemirror_mode": {
    "name": "ipython",
    "version": 3
   },
   "file_extension": ".py",
   "mimetype": "text/x-python",
   "name": "python",
   "nbconvert_exporter": "python",
   "pygments_lexer": "ipython3",
   "version": "3.10.12"
  },
  "orig_nbformat": 4
 },
 "nbformat": 4,
 "nbformat_minor": 2
}
